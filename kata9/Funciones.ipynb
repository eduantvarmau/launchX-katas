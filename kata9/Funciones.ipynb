{
 "cells": [
  {
   "cell_type": "markdown",
   "metadata": {},
   "source": [
    "Ejercicio 1"
   ]
  },
  {
   "cell_type": "code",
   "execution_count": 10,
   "metadata": {},
   "outputs": [
    {
     "name": "stdout",
     "output_type": "stream",
     "text": [
      "Reporte:\n",
      "        combustible total:46.333333333333336%\n",
      "        tanquePrincipal: 79%\n",
      "        tanqueSecundario: 40%\n",
      "        tanqueReserva: 20%\n",
      "        \n"
     ]
    }
   ],
   "source": [
    "def     reporte_combustible(tanque_principal, tanque_secundario, tanque_reserva):\n",
    "        combustible_total = (tanque_principal + tanque_secundario + tanque_reserva)/3\n",
    "        return f\"\"\"Reporte:\n",
    "        combustible total:{combustible_total}%\n",
    "        tanquePrincipal: {tanque_principal}%\n",
    "        tanqueSecundario: {tanque_secundario}%\n",
    "        tanqueReserva: {tanque_reserva}%\n",
    "        \"\"\"\n",
    "\n",
    "print(reporte_combustible(79,40,20))\n",
    "\n",
    "\n",
    "\n"
   ]
  },
  {
   "cell_type": "code",
   "execution_count": 21,
   "metadata": {},
   "outputs": [
    {
     "data": {
      "text/plain": [
       "46.333333333333336"
      ]
     },
     "execution_count": 21,
     "metadata": {},
     "output_type": "execute_result"
    }
   ],
   "source": [
    "def     promedio(porcentajes):\n",
    "        total = sum(porcentajes)\n",
    "        tanques = len (porcentajes)\n",
    "        return total / tanques\n",
    "\n",
    "promedio([79,40,20]) \n"
   ]
  },
  {
   "cell_type": "code",
   "execution_count": 23,
   "metadata": {},
   "outputs": [
    {
     "name": "stdout",
     "output_type": "stream",
     "text": [
      "Reporte:\n",
      "        combustible total:46.333333333333336%\n",
      "        tanquePrincipal: 79%\n",
      "        tanqueSecundario: 40%\n",
      "        tanqueReserva: 20%\n",
      "        \n"
     ]
    }
   ],
   "source": [
    "def     reporte_combustible(tanque_principal,tanque_secundario, tanque_reserva):\n",
    "        combustible_total = (tanque_principal + tanque_secundario + tanque_reserva)/3\n",
    "        return f\"\"\"Reporte:\n",
    "        combustible total:{promedio([tanque_principal,tanque_secundario,tanque_reserva])}%\n",
    "        tanquePrincipal: {tanque_principal}%\n",
    "        tanqueSecundario: {tanque_secundario}%\n",
    "        tanqueReserva: {tanque_reserva}%\n",
    "        \"\"\"\n",
    "\n",
    "print(reporte_combustible(79,40,20))"
   ]
  },
  {
   "cell_type": "markdown",
   "metadata": {},
   "source": [
    "Ejercicio 2 :D"
   ]
  },
  {
   "cell_type": "code",
   "execution_count": 30,
   "metadata": {},
   "outputs": [],
   "source": [
    "def reporte(prepracion, vuelo, destino, tanque_principal, tanque_reserva):\n",
    "    return f\"\"\"\n",
    "    Mision a {destino}\n",
    "    Total de gasolina:{ tanque_principal + tanque_reserva} litros\n",
    "    Duracion del viaje:{prepracion + vuelo} horas\n",
    "    \"\"\"\n",
    "\n",
    "\n",
    "\n",
    "    "
   ]
  },
  {
   "cell_type": "code",
   "execution_count": 29,
   "metadata": {},
   "outputs": [
    {
     "name": "stdout",
     "output_type": "stream",
     "text": [
      "\n",
      "    Mision a Marte\n",
      "    Total de gasolina:842 litros\n",
      "    Duracion del viaje:107 horas\n",
      "    \n"
     ]
    }
   ],
   "source": [
    "print(reporte(27, 80, \"Marte\", 465, 377))"
   ]
  },
  {
   "cell_type": "code",
   "execution_count": 31,
   "metadata": {},
   "outputs": [],
   "source": [
    "def reporte(destino, *horas, **gasolina):\n",
    "    return f\"\"\"\n",
    "    Mision a {destino}\n",
    "    Total de gasolina:{ sum(gasolina.values())} litros\n",
    "    Duracion del viaje:{sum(horas)} horas\n",
    "    \"\"\"\n",
    "\n",
    "    print(reporte(\"Marte\", 75, 85 ,12, main=4778, external=9474))"
   ]
  },
  {
   "cell_type": "code",
   "execution_count": 32,
   "metadata": {},
   "outputs": [
    {
     "name": "stdout",
     "output_type": "stream",
     "text": [
      "\n",
      "    Mision a Marte\n",
      "    Total de gasolina:14252 litros\n",
      "    Duracion del viaje:172 horas\n",
      "    \n"
     ]
    }
   ],
   "source": [
    " print(reporte(\"Marte\", 75, 85 ,12, main=4778, external=9474))"
   ]
  },
  {
   "cell_type": "code",
   "execution_count": 43,
   "metadata": {},
   "outputs": [],
   "source": [
    "def reporte(destino, *horas, **gasolina):\n",
    "    reporte = f\"\"\"\n",
    "    Mision a {destino}\n",
    "    Total de gasolina:{ sum(gasolina.values())} litros\n",
    "    Duracion del viaje:{sum(horas)} horas\n",
    "    \"\"\"\n",
    "    for tanque, litros in gasolina.items():\n",
    "        reporte += f\"{tanque} tanque --> {litros} listros restantes \\n\"\n",
    "    return reporte\n",
    "\n",
    "    "
   ]
  },
  {
   "cell_type": "code",
   "execution_count": 45,
   "metadata": {},
   "outputs": [
    {
     "name": "stdout",
     "output_type": "stream",
     "text": [
      "\n",
      "    Mision a Marte\n",
      "    Total de gasolina:10281 litros\n",
      "    Duracion del viaje:193 horas\n",
      "    main tanque --> 7494 listros restantes \n",
      "external tanque --> 2787 listros restantes \n",
      "\n"
     ]
    }
   ],
   "source": [
    "print(reporte(\"Marte\", 94, 85, 14, main=7494, external=2787))"
   ]
  }
 ],
 "metadata": {
  "interpreter": {
   "hash": "5d7af61ce60d9780b13430437edd4c7974971f6f11f36acd28ac5ec940444807"
  },
  "kernelspec": {
   "display_name": "Python 3.10.2 64-bit (windows store)",
   "language": "python",
   "name": "python3"
  },
  "language_info": {
   "codemirror_mode": {
    "name": "ipython",
    "version": 3
   },
   "file_extension": ".py",
   "mimetype": "text/x-python",
   "name": "python",
   "nbconvert_exporter": "python",
   "pygments_lexer": "ipython3",
   "version": "3.10.2"
  },
  "orig_nbformat": 4
 },
 "nbformat": 4,
 "nbformat_minor": 2
}
