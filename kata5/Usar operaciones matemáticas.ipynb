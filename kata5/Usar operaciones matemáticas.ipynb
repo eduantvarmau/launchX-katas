{
 "cells": [
  {
   "cell_type": "markdown",
   "metadata": {},
   "source": [
    "# Operadores"
   ]
  },
  {
   "cell_type": "code",
   "execution_count": 2,
   "metadata": {},
   "outputs": [],
   "source": [
    "# Crear variables para almacenar las dos distancias\n",
    "# ¡Asegúrate de quitar las comas!\n",
    "\n",
    "planeta1 = 149597870\n",
    "planeta2 = 778547200"
   ]
  },
  {
   "cell_type": "code",
   "execution_count": 3,
   "metadata": {},
   "outputs": [
    {
     "name": "stdout",
     "output_type": "stream",
     "text": [
      "628949330\n",
      "390577533.93\n"
     ]
    }
   ],
   "source": [
    "# Calcular la distancia entre planetas\n",
    "\n",
    "distanciakm = planeta2 - planeta1\n",
    "print(distanciakm)\n",
    "\n",
    "distancia = distanciakm * 0.621\n",
    "print(distancia)"
   ]
  },
  {
   "cell_type": "code",
   "execution_count": 4,
   "metadata": {},
   "outputs": [],
   "source": [
    "# Almacenar las entradas del usuario\n",
    "planeta1 = input('Introduzca la distancia del sol para el primer planeta en KM')\n",
    "planeta2 = input('Introduzca la distancia desde el sol para el segundo planeta en KM')"
   ]
  },
  {
   "cell_type": "code",
   "execution_count": 8,
   "metadata": {},
   "outputs": [],
   "source": [
    "# cadenas a números enteros\n",
    "planeta1 = int(planeta1)\n",
    "planeta2 = int(planeta2)"
   ]
  },
  {
   "cell_type": "code",
   "execution_count": 7,
   "metadata": {},
   "outputs": [
    {
     "name": "stdout",
     "output_type": "stream",
     "text": [
      "20\n",
      "12.42\n"
     ]
    }
   ],
   "source": [
    "# cálculo y determinar el valor absoluto\n",
    "distanciakm = planeta2 - planeta1\n",
    "print(distanciakm)\n",
    "\n",
    "#  KM a Millas\n",
    "distancia = distanciakm * 0.621\n",
    "print(abs(distancia))"
   ]
  }
 ],
 "metadata": {
  "interpreter": {
   "hash": "c5bd26408e5e5c89f4c7e112dc726f77ff598571785e4169bd8a22182cefec9e"
  },
  "kernelspec": {
   "display_name": "Python 3.9.10 64-bit (windows store)",
   "language": "python",
   "name": "python3"
  },
  "language_info": {
   "codemirror_mode": {
    "name": "ipython",
    "version": 3
   },
   "file_extension": ".py",
   "mimetype": "text/x-python",
   "name": "python",
   "nbconvert_exporter": "python",
   "pygments_lexer": "ipython3",
   "version": "3.9.10"
  },
  "orig_nbformat": 4
 },
 "nbformat": 4,
 "nbformat_minor": 2
}
